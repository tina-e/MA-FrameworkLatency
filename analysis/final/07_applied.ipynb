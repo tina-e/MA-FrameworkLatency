{
 "cells": [
  {
   "cell_type": "code",
   "execution_count": null,
   "metadata": {},
   "outputs": [],
   "source": [
    "import pandas as pd\n",
    "import numpy as np\n",
    "import matplotlib.pyplot as plt\n",
    "import matplotlib.transforms as transforms\n",
    "from matplotlib.legend_handler import HandlerTuple\n",
    "import seaborn as sns\n",
    "import math\n",
    "import os"
   ]
  },
  {
   "cell_type": "code",
   "execution_count": null,
   "metadata": {},
   "outputs": [],
   "source": [
    "PATH = \"../data/finals_all_0106\"\n",
    "\n",
    "files = os.listdir(PATH)\n",
    "files = [x for x in files if 'csv' in x]"
   ]
  },
  {
   "cell_type": "code",
   "execution_count": null,
   "metadata": {},
   "outputs": [],
   "source": [
    "file_data = []\n",
    "diff_means = []\n",
    "diff_program_means_dict = {'none': [], 'windup': [], 'getpixel': [], 'bitblt': [], 'getdbits': []}\n",
    "for file in files:\n",
    "    data_in = pd.read_csv(f\"{PATH}/{file}\", index_col=False)\n",
    "    try:\n",
    "        mean = data_in.query(\"fw != -1 & diff > 0\")['diff'].mean()\n",
    "        if not math.isnan(mean):\n",
    "            diff_means.append(mean)\n",
    "            diff_program_means_dict[data_in['program'][1]].append(mean)\n",
    "    except:\n",
    "        #print(data_in, file)\n",
    "        pass\n",
    "    file_data.append(data_in)\n",
    "    \n",
    "data = pd.concat(file_data)"
   ]
  }
 ],
 "metadata": {
  "language_info": {
   "name": "python"
  }
 },
 "nbformat": 4,
 "nbformat_minor": 2
}
