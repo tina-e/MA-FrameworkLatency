{
 "cells": [
  {
   "cell_type": "code",
   "execution_count": 29,
   "metadata": {},
   "outputs": [],
   "source": [
    "import pandas as pd\n",
    "import matplotlib.pyplot as plt\n",
    "import seaborn as sns\n",
    "import os"
   ]
  },
  {
   "cell_type": "code",
   "execution_count": 30,
   "metadata": {},
   "outputs": [
    {
     "data": {
      "text/plain": [
       "['FLTK_default.csv',\n",
       " 'gtk_default.csv',\n",
       " 'Java2D_default.csv',\n",
       " 'pygame_default.csv']"
      ]
     },
     "execution_count": 30,
     "metadata": {},
     "output_type": "execute_result"
    }
   ],
   "source": [
    "PATH = '../data/mouse_latency_data'\n",
    "files = os.listdir(PATH)\n",
    "files = [x for x in files if 'csv' in x]\n",
    "files"
   ]
  },
  {
   "cell_type": "code",
   "execution_count": 31,
   "metadata": {},
   "outputs": [],
   "source": [
    "data_files = []\n",
    "for file in files:\n",
    "    data_in = pd.read_csv(f\"{PATH}/{file}\", index_col=False)\n",
    "    data_in = data_in[['start_time', 'click_time']]\n",
    "    data_in = data_in.drop(index=0)\n",
    "    data_files.append(data_in)\n",
    "    \n",
    "data = pd.concat(data_files)"
   ]
  },
  {
   "cell_type": "code",
   "execution_count": 32,
   "metadata": {},
   "outputs": [
    {
     "data": {
      "text/html": [
       "<div>\n",
       "<style scoped>\n",
       "    .dataframe tbody tr th:only-of-type {\n",
       "        vertical-align: middle;\n",
       "    }\n",
       "\n",
       "    .dataframe tbody tr th {\n",
       "        vertical-align: top;\n",
       "    }\n",
       "\n",
       "    .dataframe thead th {\n",
       "        text-align: right;\n",
       "    }\n",
       "</style>\n",
       "<table border=\"1\" class=\"dataframe\">\n",
       "  <thead>\n",
       "    <tr style=\"text-align: right;\">\n",
       "      <th></th>\n",
       "      <th>start_time</th>\n",
       "      <th>click_time</th>\n",
       "      <th>diff</th>\n",
       "    </tr>\n",
       "  </thead>\n",
       "  <tbody>\n",
       "    <tr>\n",
       "      <th>1</th>\n",
       "      <td>4801681400</td>\n",
       "      <td>4801680170</td>\n",
       "      <td>1230</td>\n",
       "    </tr>\n",
       "    <tr>\n",
       "      <th>2</th>\n",
       "      <td>4802914365</td>\n",
       "      <td>4802913524</td>\n",
       "      <td>841</td>\n",
       "    </tr>\n",
       "    <tr>\n",
       "      <th>3</th>\n",
       "      <td>4804529346</td>\n",
       "      <td>4804527906</td>\n",
       "      <td>1440</td>\n",
       "    </tr>\n",
       "    <tr>\n",
       "      <th>4</th>\n",
       "      <td>4805644331</td>\n",
       "      <td>4805643136</td>\n",
       "      <td>1195</td>\n",
       "    </tr>\n",
       "    <tr>\n",
       "      <th>5</th>\n",
       "      <td>4806906349</td>\n",
       "      <td>4806904999</td>\n",
       "      <td>1350</td>\n",
       "    </tr>\n",
       "    <tr>\n",
       "      <th>...</th>\n",
       "      <td>...</td>\n",
       "      <td>...</td>\n",
       "      <td>...</td>\n",
       "    </tr>\n",
       "    <tr>\n",
       "      <th>96</th>\n",
       "      <td>5076469691</td>\n",
       "      <td>5076468563</td>\n",
       "      <td>1128</td>\n",
       "    </tr>\n",
       "    <tr>\n",
       "      <th>97</th>\n",
       "      <td>5077902676</td>\n",
       "      <td>5077901609</td>\n",
       "      <td>1067</td>\n",
       "    </tr>\n",
       "    <tr>\n",
       "      <th>98</th>\n",
       "      <td>5079621685</td>\n",
       "      <td>5079620599</td>\n",
       "      <td>1086</td>\n",
       "    </tr>\n",
       "    <tr>\n",
       "      <th>99</th>\n",
       "      <td>5080966658</td>\n",
       "      <td>5080965628</td>\n",
       "      <td>1030</td>\n",
       "    </tr>\n",
       "    <tr>\n",
       "      <th>100</th>\n",
       "      <td>5081885644</td>\n",
       "      <td>5081884662</td>\n",
       "      <td>982</td>\n",
       "    </tr>\n",
       "  </tbody>\n",
       "</table>\n",
       "<p>400 rows × 3 columns</p>\n",
       "</div>"
      ],
      "text/plain": [
       "     start_time  click_time  diff\n",
       "1    4801681400  4801680170  1230\n",
       "2    4802914365  4802913524   841\n",
       "3    4804529346  4804527906  1440\n",
       "4    4805644331  4805643136  1195\n",
       "5    4806906349  4806904999  1350\n",
       "..          ...         ...   ...\n",
       "96   5076469691  5076468563  1128\n",
       "97   5077902676  5077901609  1067\n",
       "98   5079621685  5079620599  1086\n",
       "99   5080966658  5080965628  1030\n",
       "100  5081885644  5081884662   982\n",
       "\n",
       "[400 rows x 3 columns]"
      ]
     },
     "execution_count": 32,
     "metadata": {},
     "output_type": "execute_result"
    }
   ],
   "source": [
    "data['diff'] = data['start_time'] - data['click_time']\n",
    "data"
   ]
  },
  {
   "cell_type": "code",
   "execution_count": 38,
   "metadata": {},
   "outputs": [
    {
     "data": {
      "image/png": "[encoded data removed]",
      "text/plain": [
       "<Figure size 300x500 with 1 Axes>"
      ]
     },
     "metadata": {},
     "output_type": "display_data"
    }
   ],
   "source": [
    "COLOR_NONE = '#8E8E8D'\n",
    "COLOR_HEIDENELKE = '#9C004B'\n",
    "\n",
    "sns.set_theme(style=\"whitegrid\", context=\"paper\", font_scale=1.3, rc={'figure.figsize':(3, 5), \"xtick.bottom\": True, \"grid.linestyle\": \":\"})\n",
    "plot = sns.boxplot(data['diff'], color=COLOR_NONE, linewidth=2, fill=False)\n",
    "plot = sns.swarmplot(data['diff'], color=COLOR_HEIDENELKE, size=3)\n",
    "plot.set_ylim(bottom=0, top=2500)\n",
    "plot.set_ylabel('input latency (us)', labelpad=15, fontsize=14)\n",
    "plot.set_xlabel('Razer Viper 8K Hz', fontsize=14)\n",
    "plt.savefig(\"../analysis/figures/mouse_latency.pdf\", format='pdf', bbox_inches='tight')"
   ]
  },
  {
   "cell_type": "code",
   "execution_count": 35,
   "metadata": {},
   "outputs": [
    {
     "data": {
      "text/plain": [
       "400"
      ]
     },
     "execution_count": 35,
     "metadata": {},
     "output_type": "execute_result"
    }
   ],
   "source": [
    "len(data['diff'])"
   ]
  },
  {
   "cell_type": "code",
   "execution_count": 34,
   "metadata": {},
   "outputs": [
    {
     "name": "stdout",
     "output_type": "stream",
     "text": [
      "1257.8825\n",
      "1262.5\n",
      "294.56161504240663\n"
     ]
    }
   ],
   "source": [
    "mean = data['diff'].mean()\n",
    "median = data['diff'].median()\n",
    "std = data['diff'].std()\n",
    "\n",
    "print(mean)\n",
    "print(median)\n",
    "print(std)"
   ]
  }
 ],
 "metadata": {
  "kernelspec": {
   "display_name": "Python 3",
   "language": "python",
   "name": "python3"
  },
  "language_info": {
   "codemirror_mode": {
    "name": "ipython",
    "version": 3
   },
   "file_extension": ".py",
   "mimetype": "text/x-python",
   "name": "python",
   "nbconvert_exporter": "python",
   "pygments_lexer": "ipython3",
   "version": "3.12.4"
  }
 },
 "nbformat": 4,
 "nbformat_minor": 2
}
