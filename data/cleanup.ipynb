{
 "cells": [
  {
   "cell_type": "code",
   "execution_count": 1,
   "metadata": {},
   "outputs": [],
   "source": [
    "import os\n",
    "import shutil"
   ]
  },
  {
   "cell_type": "code",
   "execution_count": 2,
   "metadata": {},
   "outputs": [],
   "source": [
    "def find_files_with_keyword(root_folder, keyword):\n",
    "    found_files = []\n",
    "\n",
    "    for folder, subfolders, files in os.walk(root_folder):\n",
    "        for file_name in files:\n",
    "            if keyword in file_name:\n",
    "                found_files.append(os.path.join(folder, file_name))\n",
    "\n",
    "    return found_files"
   ]
  },
  {
   "cell_type": "code",
   "execution_count": 3,
   "metadata": {},
   "outputs": [],
   "source": [
    "def move_files_to_new_folder(files_list, destination_folder):\n",
    "    for file_path in files_list:\n",
    "        file_name = os.path.basename(file_path)\n",
    "        destination_path = os.path.join(destination_folder, file_name)\n",
    "        shutil.move(file_path, destination_path)\n",
    "        print(f\"Moved: {file_path} -> {destination_path}\")"
   ]
  },
  {
   "cell_type": "code",
   "execution_count": 4,
   "metadata": {},
   "outputs": [
    {
     "data": {
      "text/plain": [
       "55200"
      ]
     },
     "execution_count": 4,
     "metadata": {},
     "output_type": "execute_result"
    }
   ],
   "source": [
    "num_test_apps = 29 * 3 + 5 * 1\n",
    "num_i = 200\n",
    "num_programs = 3\n",
    "result = num_test_apps * num_i * num_programs\n",
    "result"
   ]
  },
  {
   "cell_type": "code",
   "execution_count": 7,
   "metadata": {},
   "outputs": [
    {
     "name": "stdout",
     "output_type": "stream",
     "text": [
      "Found 17 file(s) containing 'WinUI_':\n",
      "Found 17 file(s) containing 'WinAPI_':\n",
      "Found 17 file(s) containing 'GDIplus_':\n",
      "Found 37 file(s) containing 'Direct3D_':\n",
      "Found 17 file(s) containing 'Direct2D_':\n",
      "Found 17 file(s) containing 'Blend2D_':\n",
      "Found 17 file(s) containing 'Cairo_':\n",
      "Found 17 file(s) containing 'FLTK_':\n",
      "Found 17 file(s) containing 'Java2D_':\n",
      "Found 17 file(s) containing 'JavaSwing_':\n",
      "Found 17 file(s) containing 'Qt5_':\n",
      "Found 17 file(s) containing 'Qt6_':\n",
      "Found 17 file(s) containing 'pyqt5_':\n",
      "Found 34 file(s) containing 'pyqt6_':\n",
      "Found 17 file(s) containing 'pyqt6_quick_':\n",
      "Found 17 file(s) containing 'tkinter_':\n",
      "Found 34 file(s) containing 'wxpython_':\n",
      "Found 17 file(s) containing 'wxpython_d2d_':\n",
      "Found 17 file(s) containing 'SDL2_Direct3D_':\n",
      "Found 17 file(s) containing 'SDL2_OpenGLES_':\n",
      "Found 17 file(s) containing 'SDL2_OpenGL_':\n",
      "Found 17 file(s) containing 'SDL2_Software_':\n",
      "Found 20 file(s) containing 'pygame_':\n",
      "Found 20 file(s) containing 'pyglet_':\n",
      "Found 17 file(s) containing 'GTK_':\n",
      "Found 20 file(s) containing 'GLUT_':\n",
      "Found 20 file(s) containing 'GLEW_':\n",
      "Found 17 file(s) containing 'SFML_':\n",
      "Found 17 file(s) containing 'Skia_':\n"
     ]
    }
   ],
   "source": [
    "root_folder = \"./finals_frameworks\" \n",
    "# keyword = \"_default\"\n",
    "\n",
    "FRAMEWORK_ORDER = ['WinUI', 'WinAPI', 'GDIplus', 'Direct3D', 'Direct2D', 'Blend2D', 'Cairo', 'FLTK', 'Java2D', 'JavaSwing','Qt5', 'Qt6', 'pyqt5', 'pyqt6', 'pyqt6_quick', 'tkinter', 'wxpython', 'wxpython_d2d', 'SDL2_Direct3D', 'SDL2_OpenGLES', 'SDL2_OpenGL', 'SDL2_Software', 'pygame', 'pyglet', 'GTK', 'GLUT', 'GLEW', 'SFML', 'Skia']\n",
    "\n",
    "for fw in FRAMEWORK_ORDER:\n",
    "    keyword = f'{fw}_'\n",
    "    #destination_folder = \"./no_fullscreen_data\"\n",
    "\n",
    "    results = find_files_with_keyword(root_folder, keyword)\n",
    "\n",
    "    if results:\n",
    "        print(f\"Found {len(results)} file(s) containing '{keyword}':\")\n",
    "        #move_files_to_new_folder(results, destination_folder)\n",
    "        # for file_path in results:\n",
    "        #     print(file_path)\n",
    "    else:\n",
    "        print(f\"No files found containing '{keyword}'\")"
   ]
  },
  {
   "cell_type": "code",
   "execution_count": null,
   "metadata": {},
   "outputs": [],
   "source": []
  }
 ],
 "metadata": {
  "kernelspec": {
   "display_name": "Python 3",
   "language": "python",
   "name": "python3"
  },
  "language_info": {
   "codemirror_mode": {
    "name": "ipython",
    "version": 3
   },
   "file_extension": ".py",
   "mimetype": "text/x-python",
   "name": "python",
   "nbconvert_exporter": "python",
   "pygments_lexer": "ipython3",
   "version": "3.12.4"
  }
 },
 "nbformat": 4,
 "nbformat_minor": 2
}
