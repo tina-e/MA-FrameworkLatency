{
 "cells": [
  {
   "cell_type": "code",
   "execution_count": 7,
   "metadata": {},
   "outputs": [],
   "source": [
    "import os\n",
    "import shutil"
   ]
  },
  {
   "cell_type": "code",
   "execution_count": 8,
   "metadata": {},
   "outputs": [],
   "source": [
    "def find_files_with_keyword(root_folder, keyword):\n",
    "    found_files = []\n",
    "\n",
    "    for folder, subfolders, files in os.walk(root_folder):\n",
    "        for file_name in files:\n",
    "            if keyword in file_name:\n",
    "                found_files.append(os.path.join(folder, file_name))\n",
    "\n",
    "    return found_files"
   ]
  },
  {
   "cell_type": "code",
   "execution_count": 9,
   "metadata": {},
   "outputs": [],
   "source": [
    "def move_files_to_new_folder(files_list, destination_folder):\n",
    "    for file_path in files_list:\n",
    "        file_name = os.path.basename(file_path)\n",
    "        destination_path = os.path.join(destination_folder, file_name)\n",
    "        shutil.move(file_path, destination_path)\n",
    "        print(f\"Moved: {file_path} -> {destination_path}\")"
   ]
  },
  {
   "cell_type": "code",
   "execution_count": 76,
   "metadata": {},
   "outputs": [
    {
     "name": "stdout",
     "output_type": "stream",
     "text": [
      "Found 86 file(s) containing 'default':\n"
     ]
    }
   ],
   "source": [
    "root_folder = \"./vsync_on_500hz\" \n",
    "keyword = \"default\"\n",
    "#destination_folder = \"./no_fullscreen_data\"\n",
    "\n",
    "results = find_files_with_keyword(root_folder, keyword)\n",
    "\n",
    "if results:\n",
    "    print(f\"Found {len(results)} file(s) containing '{keyword}':\")\n",
    "    #move_files_to_new_folder(results, destination_folder)\n",
    "    # for file_path in results:\n",
    "    #     print(file_path)\n",
    "else:\n",
    "    print(f\"No files found containing '{keyword}'\")"
   ]
  },
  {
   "cell_type": "code",
   "execution_count": null,
   "metadata": {},
   "outputs": [],
   "source": []
  }
 ],
 "metadata": {
  "kernelspec": {
   "display_name": "Python 3",
   "language": "python",
   "name": "python3"
  },
  "language_info": {
   "codemirror_mode": {
    "name": "ipython",
    "version": 3
   },
   "file_extension": ".py",
   "mimetype": "text/x-python",
   "name": "python",
   "nbconvert_exporter": "python",
   "pygments_lexer": "ipython3",
   "version": "3.12.4"
  }
 },
 "nbformat": 4,
 "nbformat_minor": 2
}
