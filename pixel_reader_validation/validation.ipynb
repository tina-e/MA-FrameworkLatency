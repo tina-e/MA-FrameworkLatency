{
 "cells": [
  {
   "cell_type": "code",
   "execution_count": 510,
   "metadata": {},
   "outputs": [],
   "source": [
    "import warnings\n",
    "warnings.simplefilter(action='ignore', category=FutureWarning)\n",
    "warnings.simplefilter(action='ignore', category=UserWarning)\n",
    "warnings.simplefilter(action='ignore', category=SyntaxWarning)\n",
    "import pandas as pd\n",
    "import numpy as np\n",
    "from statistics import mean\n",
    "import matplotlib as mpl\n",
    "import matplotlib.pyplot as plt\n",
    "import matplotlib.transforms as transforms\n",
    "from matplotlib.legend_handler import HandlerTuple\n",
    "import seaborn as sns\n",
    "import math\n",
    "import os"
   ]
  },
  {
   "cell_type": "code",
   "execution_count": 511,
   "metadata": {},
   "outputs": [],
   "source": [
    "PROGRAM = 'windup'\n",
    "RFR = 500\n",
    "I = 3"
   ]
  },
  {
   "cell_type": "code",
   "execution_count": 512,
   "metadata": {},
   "outputs": [],
   "source": [
    "COLOR_GLUTROT = '#DA3C43'\n",
    "COLOR_HEIDENELKE = '#9C004B'\n",
    "\n",
    "COLOR_BLUE= '#5CABFF'\n",
    "COLOR_DARKBLUE = '#18206F'\n",
    "\n",
    "COLOR_GREEN = '#7dff1a'\n",
    "COLOR_DARKGREEN = '#4FB800'\n",
    "\n",
    "COLOR_OCKER_ANDI_ORIGINAL = '#ebb300'\n",
    "COLOR_OCKER_ANDI = '#EC7F00'\n",
    "COLOR_OCKER = '#EA5C21'\n",
    "\n",
    "COLOR_NONE = '#8E8E8D'\n",
    "COLOR_NONE_DARK = '#4E4E4D'\n",
    "\n",
    "PROGRAM_COLORS = {'getpixel':COLOR_OCKER_ANDI, 'bitblt':COLOR_OCKER, 'getdbits':COLOR_GLUTROT,'windup':COLOR_HEIDENELKE}"
   ]
  },
  {
   "cell_type": "code",
   "execution_count": 513,
   "metadata": {},
   "outputs": [],
   "source": [
    "PATH = f'./data/final_{RFR}'\n",
    "files = os.listdir(PATH)\n",
    "files = [x for x in files if 'csv' in x]"
   ]
  },
  {
   "cell_type": "code",
   "execution_count": 514,
   "metadata": {},
   "outputs": [],
   "source": [
    "program_data_files = []\n",
    "app_data_files = []\n",
    "for file in files:\n",
    "    data_in = pd.read_csv(f\"{PATH}/{file}\", index_col=False)\n",
    "    data_in['program'] = file.split('_')[1]\n",
    "    #print(file.split('_')[2])\n",
    "    if 'program' in file:\n",
    "        program_data_files.append(data_in)\n",
    "    else:\n",
    "        app_data_files.append(data_in)\n",
    "    "
   ]
  },
  {
   "cell_type": "code",
   "execution_count": 515,
   "metadata": {},
   "outputs": [],
   "source": [
    "# data_measurements[(data_measurements['color'] >= 100) & (data_measurements['color'] <= 110)]['time_since_start'].diff().mean()"
   ]
  },
  {
   "cell_type": "markdown",
   "metadata": {},
   "source": [
    "exemplarily, we observe the color values 100 to 150 (otherwise, it would be too much for one plot)"
   ]
  },
  {
   "cell_type": "code",
   "execution_count": 516,
   "metadata": {},
   "outputs": [],
   "source": [
    "refactored_program = []\n",
    "refactored_app = []\n",
    "for i, current_program in enumerate(program_data_files):\n",
    "    current_app = app_data_files[i]\n",
    "    start = current_app[(current_app['event_type'] == 'render_stop') & (current_app['color'] == 100)]['timestamp'].min()\n",
    "    # start = current_app[current_app['event_type'] == 'start']['timestamp'].min()\n",
    "    current_program['time_since_start'] = current_program['timestamp'] - start\n",
    "    current_app['time_since_start'] = current_app['timestamp'] - start\n",
    "    refactored_program.append(current_program)\n",
    "    refactored_app.append(current_app)"
   ]
  },
  {
   "cell_type": "code",
   "execution_count": 517,
   "metadata": {},
   "outputs": [],
   "source": [
    "data_program = pd.concat(refactored_program)\n",
    "data_app = pd.concat(refactored_app)"
   ]
  },
  {
   "cell_type": "code",
   "execution_count": 518,
   "metadata": {},
   "outputs": [
    {
     "name": "stderr",
     "output_type": "stream",
     "text": [
      "C:\\Users\\tinaemmert\\AppData\\Local\\Temp\\ipykernel_13460\\730176844.py:4: SettingWithCopyWarning: \n",
      "A value is trying to be set on a copy of a slice from a DataFrame.\n",
      "Try using .loc[row_indexer,col_indexer] = value instead\n",
      "\n",
      "See the caveats in the documentation: https://pandas.pydata.org/pandas-docs/stable/user_guide/indexing.html#returning-a-view-versus-a-copy\n",
      "  data_events['timestamp'] = data_events['timestamp'] / 1000\n",
      "C:\\Users\\tinaemmert\\AppData\\Local\\Temp\\ipykernel_13460\\730176844.py:5: SettingWithCopyWarning: \n",
      "A value is trying to be set on a copy of a slice from a DataFrame.\n",
      "Try using .loc[row_indexer,col_indexer] = value instead\n",
      "\n",
      "See the caveats in the documentation: https://pandas.pydata.org/pandas-docs/stable/user_guide/indexing.html#returning-a-view-versus-a-copy\n",
      "  data_measurements['timestamp'] = data_measurements['timestamp'] / 1000\n",
      "C:\\Users\\tinaemmert\\AppData\\Local\\Temp\\ipykernel_13460\\730176844.py:6: SettingWithCopyWarning: \n",
      "A value is trying to be set on a copy of a slice from a DataFrame.\n",
      "Try using .loc[row_indexer,col_indexer] = value instead\n",
      "\n",
      "See the caveats in the documentation: https://pandas.pydata.org/pandas-docs/stable/user_guide/indexing.html#returning-a-view-versus-a-copy\n",
      "  data_events['time_since_start'] = data_events['time_since_start'] / 1000\n",
      "C:\\Users\\tinaemmert\\AppData\\Local\\Temp\\ipykernel_13460\\730176844.py:7: SettingWithCopyWarning: \n",
      "A value is trying to be set on a copy of a slice from a DataFrame.\n",
      "Try using .loc[row_indexer,col_indexer] = value instead\n",
      "\n",
      "See the caveats in the documentation: https://pandas.pydata.org/pandas-docs/stable/user_guide/indexing.html#returning-a-view-versus-a-copy\n",
      "  data_measurements['time_since_start'] = data_measurements['time_since_start'] / 1000\n"
     ]
    }
   ],
   "source": [
    "data_events = data_app[data_app['program'] == PROGRAM]\n",
    "data_measurements = data_program[data_program['program'] == PROGRAM]\n",
    "\n",
    "data_events['timestamp'] = data_events['timestamp'] / 1000 \n",
    "data_measurements['timestamp'] = data_measurements['timestamp'] / 1000 \n",
    "data_events['time_since_start'] = data_events['time_since_start'] / 1000 \n",
    "data_measurements['time_since_start'] = data_measurements['time_since_start'] / 1000 "
   ]
  },
  {
   "cell_type": "code",
   "execution_count": 519,
   "metadata": {},
   "outputs": [
    {
     "data": {
      "text/html": [
       "<div>\n",
       "<style scoped>\n",
       "    .dataframe tbody tr th:only-of-type {\n",
       "        vertical-align: middle;\n",
       "    }\n",
       "\n",
       "    .dataframe tbody tr th {\n",
       "        vertical-align: top;\n",
       "    }\n",
       "\n",
       "    .dataframe thead th {\n",
       "        text-align: right;\n",
       "    }\n",
       "</style>\n",
       "<table border=\"1\" class=\"dataframe\">\n",
       "  <thead>\n",
       "    <tr style=\"text-align: right;\">\n",
       "      <th></th>\n",
       "      <th>event_type</th>\n",
       "      <th>timestamp</th>\n",
       "      <th>color</th>\n",
       "      <th>iteration</th>\n",
       "      <th>program</th>\n",
       "      <th>time_since_start</th>\n",
       "    </tr>\n",
       "  </thead>\n",
       "  <tbody>\n",
       "    <tr>\n",
       "      <th>0</th>\n",
       "      <td>got color at</td>\n",
       "      <td>1.719426e+12</td>\n",
       "      <td>0</td>\n",
       "      <td>3</td>\n",
       "      <td>windup</td>\n",
       "      <td>-4780.61775</td>\n",
       "    </tr>\n",
       "    <tr>\n",
       "      <th>1</th>\n",
       "      <td>got color at</td>\n",
       "      <td>1.719426e+12</td>\n",
       "      <td>4</td>\n",
       "      <td>3</td>\n",
       "      <td>windup</td>\n",
       "      <td>-4779.50575</td>\n",
       "    </tr>\n",
       "    <tr>\n",
       "      <th>2</th>\n",
       "      <td>got color at</td>\n",
       "      <td>1.719426e+12</td>\n",
       "      <td>5</td>\n",
       "      <td>3</td>\n",
       "      <td>windup</td>\n",
       "      <td>-4744.81475</td>\n",
       "    </tr>\n",
       "    <tr>\n",
       "      <th>3</th>\n",
       "      <td>got color at</td>\n",
       "      <td>1.719426e+12</td>\n",
       "      <td>6</td>\n",
       "      <td>3</td>\n",
       "      <td>windup</td>\n",
       "      <td>-4694.91475</td>\n",
       "    </tr>\n",
       "    <tr>\n",
       "      <th>4</th>\n",
       "      <td>got color at</td>\n",
       "      <td>1.719426e+12</td>\n",
       "      <td>7</td>\n",
       "      <td>3</td>\n",
       "      <td>windup</td>\n",
       "      <td>-4644.76775</td>\n",
       "    </tr>\n",
       "    <tr>\n",
       "      <th>...</th>\n",
       "      <td>...</td>\n",
       "      <td>...</td>\n",
       "      <td>...</td>\n",
       "      <td>...</td>\n",
       "      <td>...</td>\n",
       "      <td>...</td>\n",
       "    </tr>\n",
       "    <tr>\n",
       "      <th>13965</th>\n",
       "      <td>got color at</td>\n",
       "      <td>1.719426e+12</td>\n",
       "      <td>-3</td>\n",
       "      <td>3</td>\n",
       "      <td>windup</td>\n",
       "      <td>7854.05925</td>\n",
       "    </tr>\n",
       "    <tr>\n",
       "      <th>13966</th>\n",
       "      <td>got color at</td>\n",
       "      <td>1.719426e+12</td>\n",
       "      <td>-3</td>\n",
       "      <td>3</td>\n",
       "      <td>windup</td>\n",
       "      <td>7854.06725</td>\n",
       "    </tr>\n",
       "    <tr>\n",
       "      <th>13967</th>\n",
       "      <td>got color at</td>\n",
       "      <td>1.719426e+12</td>\n",
       "      <td>-3</td>\n",
       "      <td>3</td>\n",
       "      <td>windup</td>\n",
       "      <td>7854.07525</td>\n",
       "    </tr>\n",
       "    <tr>\n",
       "      <th>13968</th>\n",
       "      <td>got color at</td>\n",
       "      <td>1.719426e+12</td>\n",
       "      <td>-3</td>\n",
       "      <td>3</td>\n",
       "      <td>windup</td>\n",
       "      <td>7854.08425</td>\n",
       "    </tr>\n",
       "    <tr>\n",
       "      <th>13969</th>\n",
       "      <td>got color at</td>\n",
       "      <td>1.719426e+12</td>\n",
       "      <td>-3</td>\n",
       "      <td>3</td>\n",
       "      <td>windup</td>\n",
       "      <td>7854.09225</td>\n",
       "    </tr>\n",
       "  </tbody>\n",
       "</table>\n",
       "<p>13970 rows × 6 columns</p>\n",
       "</div>"
      ],
      "text/plain": [
       "         event_type     timestamp  color  iteration program  time_since_start\n",
       "0      got color at  1.719426e+12      0          3  windup       -4780.61775\n",
       "1      got color at  1.719426e+12      4          3  windup       -4779.50575\n",
       "2      got color at  1.719426e+12      5          3  windup       -4744.81475\n",
       "3      got color at  1.719426e+12      6          3  windup       -4694.91475\n",
       "4      got color at  1.719426e+12      7          3  windup       -4644.76775\n",
       "...             ...           ...    ...        ...     ...               ...\n",
       "13965  got color at  1.719426e+12     -3          3  windup        7854.05925\n",
       "13966  got color at  1.719426e+12     -3          3  windup        7854.06725\n",
       "13967  got color at  1.719426e+12     -3          3  windup        7854.07525\n",
       "13968  got color at  1.719426e+12     -3          3  windup        7854.08425\n",
       "13969  got color at  1.719426e+12     -3          3  windup        7854.09225\n",
       "\n",
       "[13970 rows x 6 columns]"
      ]
     },
     "execution_count": 519,
     "metadata": {},
     "output_type": "execute_result"
    }
   ],
   "source": [
    "data_measurements[data_measurements['iteration'] == I]"
   ]
  },
  {
   "cell_type": "code",
   "execution_count": 520,
   "metadata": {},
   "outputs": [],
   "source": [
    "# data_single_measurements = data_measurements[data_measurements['iteration'] == I]\n",
    "# data_single_events = data_events[data_events['iteration'] == I]\n",
    "\n",
    "# sns.set_theme(style=\"whitegrid\", context=\"paper\", font_scale=1.3, rc={'figure.figsize':(20, 5), \"xtick.bottom\": True, \"grid.linestyle\": \":\"})\n",
    "# plot = sns.lineplot(data_single_measurements[(data_single_measurements['color'] > 0) & (data_single_measurements['color'] < 256)], x='time_since_start', y='color', marker='o')\n",
    "\n",
    "# for value in data_single_events[data_single_events['event_type'] == 'render_stop']['time_since_start']:\n",
    "#     plot.axvline(value, color=COLOR_DARKBLUE, linewidth=0.5)\n",
    "\n",
    "# for value in data_single_events[data_single_events['event_type'] == 'render_start']['time_since_start']:\n",
    "#     plot.axvline(value, color=COLOR_BLUE, linewidth=0.5)\n",
    "\n",
    "\n",
    "# plot.set_xlabel('time since application start (ms)')\n",
    "# # plot.set_xlim(0, 50)"
   ]
  },
  {
   "cell_type": "code",
   "execution_count": 521,
   "metadata": {},
   "outputs": [
    {
     "data": {
      "image/png": "[encoded data removed]",
      "text/plain": [
       "<Figure size 1500x300 with 1 Axes>"
      ]
     },
     "metadata": {},
     "output_type": "display_data"
    }
   ],
   "source": [
    "sns.set_theme(style=\"whitegrid\", context=\"paper\", font_scale=1.3, rc={'figure.figsize':(15, 3), \"xtick.bottom\": True, \"grid.linestyle\": \":\"})\n",
    "\n",
    "data_single_measurements = data_measurements[data_measurements['iteration'] == I]\n",
    "data_single_events = data_events[data_events['iteration'] == I]\n",
    "\n",
    "plot = sns.lineplot(data_single_measurements[(data_single_measurements['color'] >= 100) & (data_single_measurements['color'] <= 110)], x='time_since_start', y='color', marker='o', color=PROGRAM_COLORS[PROGRAM])\n",
    "\n",
    "for value in data_single_events[data_single_events['event_type'] == 'render_start']['time_since_start']:\n",
    "    plot.axvline(value, color=COLOR_NONE, linewidth=0.5)\n",
    "\n",
    "for value in data_single_events[data_single_events['event_type'] == 'render_stop']['time_since_start']:\n",
    "    plot.axvline(value, color=COLOR_BLUE, linewidth=0.5)\n",
    "\n",
    "\n",
    "handles = []\n",
    "handles.append((\n",
    "    mpl.lines.Line2D([0, 1, 2, 3, 4], [1, 1, 1, 1], color=PROGRAM_COLORS[PROGRAM], markerfacecolor=PROGRAM_COLORS[PROGRAM], linewidth=3),\n",
    "    mpl.lines.Line2D([2], [2], marker='o', mfc='white', color=PROGRAM_COLORS[PROGRAM], markersize=7, linewidth=3)\n",
    "))\n",
    "\n",
    "legend = plot.legend(loc='upper left', handles=handles, labels=[PROGRAM])\n",
    "legend.set_visible(True)\n",
    "\n",
    "\n",
    "plot.set_ylabel('color value', labelpad=15, fontsize=16)\n",
    "plot.set_xlabel('')\n",
    "plot.set_xlabel('time since application rendered color value 100 (ms)', labelpad=15, fontsize=16)\n",
    "plot.set_xlim(0, 510)\n",
    "\n",
    "plt.savefig(f\"../analysis/figures/{PROGRAM}_{RFR}_validation_final.pdf\", format='pdf', bbox_inches='tight')\n"
   ]
  },
  {
   "cell_type": "code",
   "execution_count": 522,
   "metadata": {},
   "outputs": [
    {
     "data": {
      "text/plain": [
       "49.998999999999796"
      ]
     },
     "execution_count": 522,
     "metadata": {},
     "output_type": "execute_result"
    }
   ],
   "source": [
    "data_measurements[(data_measurements['color'] >= 5) & (data_measurements['color'] <= 254)]['time_since_start'].diff().median()"
   ]
  },
  {
   "cell_type": "code",
   "execution_count": 523,
   "metadata": {},
   "outputs": [],
   "source": [
    "# for i in range(255):\n",
    "#     data_single_measurements = data_measurements[data_measurements['iteration'] == i]\n",
    "#     print(i, data_single_measurements['time_since_start'].diff().mean())"
   ]
  },
  {
   "cell_type": "code",
   "execution_count": 524,
   "metadata": {},
   "outputs": [],
   "source": [
    "# diff_dict = {}\n",
    "# for iteration in range(50):\n",
    "#     for program in data_app['program'].unique():\n",
    "#         diff_dict[program] = []\n",
    "#         data_temp_program = data_program[(data_program['program'] == program) & (data_program['iteration'] == i)]\n",
    "#         data_temp_app = data_app[(data_app['program'] == program) & (data_app['iteration'] == i)]\n",
    "#         for color in range(5, 255):\n",
    "#             first_measurement_for_color = data_temp_program[data_temp_program['color'] == color]['time_since_start'].min()\n",
    "#             # print(program, color, len(first_measurement_for_color))\n",
    "#             # first_measurement_for_color = first_measurement_for_color.min()\n",
    "#             render_stop_for_color = data_temp_app[(data_temp_app['color'] == color) & (data_temp_app['event_type'] == 'render_stop')]['time_since_start'].min()\n",
    "#             if math.isnan(render_stop_for_color) or math.isnan(first_measurement_for_color):\n",
    "#                 print(f'no value for {color}')\n",
    "#             else:\n",
    "#                 diff_dict[program].append(first_measurement_for_color - render_stop_for_color.min())"
   ]
  },
  {
   "cell_type": "code",
   "execution_count": 525,
   "metadata": {},
   "outputs": [],
   "source": [
    "# data_diffs = pd.DataFrame.from_dict(diff_dict)\n",
    "# data_melted = data_diffs.melt(var_name='program', value_name='diff')\n",
    "# data_melted\n",
    "# data_melted['diff'] = data_melted['diff'] / 1000 "
   ]
  },
  {
   "cell_type": "code",
   "execution_count": 526,
   "metadata": {},
   "outputs": [],
   "source": [
    "# sns.set_theme(style=\"whitegrid\", context=\"paper\", font_scale=1.3, rc={'figure.figsize':(7, 5), \"xtick.bottom\": True, \"grid.linestyle\": \":\"})\n",
    "\n",
    "# plot = sns.boxplot(data_melted, x='program', y='diff', order=['getpixel', 'bitblt', 'getdbits', 'windup'], color=COLOR_NONE, fill=False, linewidth=1.5)\n",
    "# plot = sns.stripplot(data_melted, x='program', y='diff', order=['getpixel', 'bitblt', 'getdbits', 'windup'], palette=[COLOR_OCKER_ANDI, COLOR_OCKER, COLOR_GLUTROT, COLOR_HEIDENELKE], size=2)\n",
    "\n",
    "# plot.set_ylim(0, 7)\n",
    "# plot.set_ylabel('time passed since render (ms)', labelpad=18, fontsize=16)\n",
    "# plot.set_xlabel('')\n",
    "# # plt.savefig(\"../analysis/figures/validation_dist_{RFR}.pdf\", format='pdf', bbox_inches='tight')"
   ]
  },
  {
   "cell_type": "code",
   "execution_count": 527,
   "metadata": {},
   "outputs": [],
   "source": [
    "# data_melted[data_melted['program'] == 'windup']['diff'].mean()"
   ]
  }
 ],
 "metadata": {
  "kernelspec": {
   "display_name": "Python 3",
   "language": "python",
   "name": "python3"
  },
  "language_info": {
   "codemirror_mode": {
    "name": "ipython",
    "version": 3
   },
   "file_extension": ".py",
   "mimetype": "text/x-python",
   "name": "python",
   "nbconvert_exporter": "python",
   "pygments_lexer": "ipython3",
   "version": "3.12.4"
  }
 },
 "nbformat": 4,
 "nbformat_minor": 2
}
