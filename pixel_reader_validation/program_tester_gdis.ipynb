{
 "cells": [
  {
   "cell_type": "code",
   "execution_count": 85,
   "metadata": {},
   "outputs": [],
   "source": [
    "import pandas as pd\n",
    "import numpy as np\n",
    "import matplotlib.pyplot as plt\n",
    "import matplotlib.transforms as transforms\n",
    "from matplotlib.legend_handler import HandlerTuple\n",
    "import seaborn as sns\n",
    "import math\n",
    "import os"
   ]
  },
  {
   "cell_type": "code",
   "execution_count": 86,
   "metadata": {},
   "outputs": [],
   "source": [
    "PROGRAM = 'getpixel'"
   ]
  },
  {
   "cell_type": "code",
   "execution_count": 87,
   "metadata": {},
   "outputs": [],
   "source": [
    "PATH = f'data/setup_test_{PROGRAM}_'"
   ]
  },
  {
   "cell_type": "code",
   "execution_count": 88,
   "metadata": {},
   "outputs": [],
   "source": [
    "data_in_app = pd.read_csv(f'{PATH}app.csv')"
   ]
  },
  {
   "cell_type": "code",
   "execution_count": 89,
   "metadata": {},
   "outputs": [],
   "source": [
    "data_in = pd.read_csv(f'{PATH}program.csv')"
   ]
  },
  {
   "cell_type": "code",
   "execution_count": 90,
   "metadata": {},
   "outputs": [
    {
     "data": {
      "text/html": [
       "<div>\n",
       "<style scoped>\n",
       "    .dataframe tbody tr th:only-of-type {\n",
       "        vertical-align: middle;\n",
       "    }\n",
       "\n",
       "    .dataframe tbody tr th {\n",
       "        vertical-align: top;\n",
       "    }\n",
       "\n",
       "    .dataframe thead th {\n",
       "        text-align: right;\n",
       "    }\n",
       "</style>\n",
       "<table border=\"1\" class=\"dataframe\">\n",
       "  <thead>\n",
       "    <tr style=\"text-align: right;\">\n",
       "      <th></th>\n",
       "      <th>event_type</th>\n",
       "      <th>timestamp</th>\n",
       "      <th>color_equal</th>\n",
       "      <th>color_value</th>\n",
       "    </tr>\n",
       "  </thead>\n",
       "  <tbody>\n",
       "    <tr>\n",
       "      <th>0</th>\n",
       "      <td>got color at</td>\n",
       "      <td>1989306568</td>\n",
       "      <td>1</td>\n",
       "      <td>-1</td>\n",
       "    </tr>\n",
       "    <tr>\n",
       "      <th>1</th>\n",
       "      <td>got color at</td>\n",
       "      <td>1989308200</td>\n",
       "      <td>1</td>\n",
       "      <td>-1</td>\n",
       "    </tr>\n",
       "    <tr>\n",
       "      <th>2</th>\n",
       "      <td>got color at</td>\n",
       "      <td>1989310028</td>\n",
       "      <td>1</td>\n",
       "      <td>-1</td>\n",
       "    </tr>\n",
       "    <tr>\n",
       "      <th>3</th>\n",
       "      <td>got color at</td>\n",
       "      <td>1989312049</td>\n",
       "      <td>1</td>\n",
       "      <td>-1</td>\n",
       "    </tr>\n",
       "    <tr>\n",
       "      <th>4</th>\n",
       "      <td>got color at</td>\n",
       "      <td>1989314111</td>\n",
       "      <td>1</td>\n",
       "      <td>-1</td>\n",
       "    </tr>\n",
       "    <tr>\n",
       "      <th>...</th>\n",
       "      <td>...</td>\n",
       "      <td>...</td>\n",
       "      <td>...</td>\n",
       "      <td>...</td>\n",
       "    </tr>\n",
       "    <tr>\n",
       "      <th>319</th>\n",
       "      <td>got color at</td>\n",
       "      <td>1990107686</td>\n",
       "      <td>1</td>\n",
       "      <td>10</td>\n",
       "    </tr>\n",
       "    <tr>\n",
       "      <th>320</th>\n",
       "      <td>got color at</td>\n",
       "      <td>1990110615</td>\n",
       "      <td>1</td>\n",
       "      <td>10</td>\n",
       "    </tr>\n",
       "    <tr>\n",
       "      <th>321</th>\n",
       "      <td>got color at</td>\n",
       "      <td>1990112424</td>\n",
       "      <td>1</td>\n",
       "      <td>10</td>\n",
       "    </tr>\n",
       "    <tr>\n",
       "      <th>322</th>\n",
       "      <td>got color at</td>\n",
       "      <td>1990115222</td>\n",
       "      <td>1</td>\n",
       "      <td>10</td>\n",
       "    </tr>\n",
       "    <tr>\n",
       "      <th>323</th>\n",
       "      <td>got color at</td>\n",
       "      <td>1990116947</td>\n",
       "      <td>1</td>\n",
       "      <td>10</td>\n",
       "    </tr>\n",
       "  </tbody>\n",
       "</table>\n",
       "<p>324 rows × 4 columns</p>\n",
       "</div>"
      ],
      "text/plain": [
       "       event_type   timestamp  color_equal  color_value\n",
       "0    got color at  1989306568            1           -1\n",
       "1    got color at  1989308200            1           -1\n",
       "2    got color at  1989310028            1           -1\n",
       "3    got color at  1989312049            1           -1\n",
       "4    got color at  1989314111            1           -1\n",
       "..            ...         ...          ...          ...\n",
       "319  got color at  1990107686            1           10\n",
       "320  got color at  1990110615            1           10\n",
       "321  got color at  1990112424            1           10\n",
       "322  got color at  1990115222            1           10\n",
       "323  got color at  1990116947            1           10\n",
       "\n",
       "[324 rows x 4 columns]"
      ]
     },
     "execution_count": 90,
     "metadata": {},
     "output_type": "execute_result"
    }
   ],
   "source": [
    "data_in['color_value'] = -1\n",
    "\n",
    "increment_counter = 0\n",
    "for index_app, row_app in data_in_app.iterrows():\n",
    "    if row_app['event_type'] == 'render_stop':\n",
    "        for index_program, row_program in data_in.iterrows():\n",
    "            if row_program['timestamp'] > row_app['timestamp']:\n",
    "                data_in.at[index_program, 'color_value'] += 1\n",
    "\n",
    "data_in"
   ]
  },
  {
   "cell_type": "code",
   "execution_count": 91,
   "metadata": {},
   "outputs": [
    {
     "data": {
      "image/png": "[encoded data removed]",
      "text/plain": [
       "<Figure size 1840x800 with 1 Axes>"
      ]
     },
     "metadata": {},
     "output_type": "display_data"
    }
   ],
   "source": [
    "plt.figure(figsize=(23, 10), dpi=80)\n",
    "ax = plt.gca()\n",
    "\n",
    "# for value in data_in[data_in['color_value'] > -1]['timestamp']:\n",
    "#     ax.axvline(value, color='blue', linewidth='0.5')\n",
    "\n",
    "# for value in data_in[data_in['color_equal'] == 0]['timestamp']:\n",
    "#     ax.axvline(value, color='red', linewidth='1')\n",
    "\n",
    "for value in data_in_app[data_in_app['event_type'] == 'render_stop']['timestamp']:\n",
    "    ax.axvline(value, color='red', linewidth='1')\n",
    "\n",
    "palette = {1: 'blue', 0: 'red'}\n",
    "plot = sns.lineplot(data=data_in[data_in['color_value'] > 0], x='timestamp', y='color_value', marker='o', color='blue')\n"
   ]
  },
  {
   "cell_type": "code",
   "execution_count": 92,
   "metadata": {},
   "outputs": [
    {
     "name": "stdout",
     "output_type": "stream",
     "text": [
      "vsync: 2.0\n",
      "color value 0: 25 measurements -> every 2.0ms\n",
      "color value 1: 25 measurements -> every 2.0ms\n",
      "color value 2: 18 measurements -> every 2.7777777777777777ms\n",
      "color value 3: 25 measurements -> every 2.0ms\n",
      "color value 4: 25 measurements -> every 2.0ms\n",
      "color value 5: 24 measurements -> every 2.0833333333333335ms\n",
      "color value 6: 25 measurements -> every 2.0ms\n",
      "color value 7: 25 measurements -> every 2.0ms\n",
      "color value 8: 25 measurements -> every 2.0ms\n",
      "color value 9: 25 measurements -> every 2.0ms\n"
     ]
    }
   ],
   "source": [
    "print(f'vsync: {1/500 * 1000}')\n",
    "for i in range(10):\n",
    "    num_measurements = len(data_in[data_in['color_value'] == i])\n",
    "    print(f'color value {i}: {num_measurements} measurements -> every {50 / num_measurements}ms')"
   ]
  }
 ],
 "metadata": {
  "kernelspec": {
   "display_name": "Python 3",
   "language": "python",
   "name": "python3"
  },
  "language_info": {
   "codemirror_mode": {
    "name": "ipython",
    "version": 3
   },
   "file_extension": ".py",
   "mimetype": "text/x-python",
   "name": "python",
   "nbconvert_exporter": "python",
   "pygments_lexer": "ipython3",
   "version": "3.8.0"
  }
 },
 "nbformat": 4,
 "nbformat_minor": 2
}
